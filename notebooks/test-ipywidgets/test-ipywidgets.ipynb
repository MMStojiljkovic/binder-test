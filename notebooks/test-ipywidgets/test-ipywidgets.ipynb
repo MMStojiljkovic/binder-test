{
 "cells": [
  {
   "cell_type": "code",
   "execution_count": 1,
   "id": "verified-danger",
   "metadata": {},
   "outputs": [],
   "source": [
    "import ipywidgets as widgets"
   ]
  },
  {
   "cell_type": "code",
   "execution_count": 2,
   "id": "restricted-bulletin",
   "metadata": {},
   "outputs": [
    {
     "data": {
      "application/vnd.jupyter.widget-view+json": {
       "model_id": "5a4780324c4c4d1e9aeff5f912fea182",
       "version_major": 2,
       "version_minor": 0
      },
      "text/plain": [
       "Text(value='', description='First:')"
      ]
     },
     "metadata": {},
     "output_type": "display_data"
    },
    {
     "data": {
      "application/vnd.jupyter.widget-view+json": {
       "model_id": "ea8179e8e8bc4f61a10e261bd9af6a47",
       "version_major": 2,
       "version_minor": 0
      },
      "text/plain": [
       "Text(value='', description='Second:')"
      ]
     },
     "metadata": {},
     "output_type": "display_data"
    },
    {
     "data": {
      "application/vnd.jupyter.widget-view+json": {
       "model_id": "afa35d82fba3439da53dbf944ae0e048",
       "version_major": 2,
       "version_minor": 0
      },
      "text/plain": [
       "Button(description='Calculate', style=ButtonStyle(), tooltip='Sum')"
      ]
     },
     "metadata": {},
     "output_type": "display_data"
    },
    {
     "data": {
      "application/vnd.jupyter.widget-view+json": {
       "model_id": "5a12ca56fd7e4957a8b4b5a3aa0bc798",
       "version_major": 2,
       "version_minor": 0
      },
      "text/plain": [
       "Text(value='', description='Sum:')"
      ]
     },
     "metadata": {},
     "output_type": "display_data"
    }
   ],
   "source": [
    "x = widgets.Text(value='', description='First:', disabled=False)\n",
    "y = widgets.Text(value='', description='Second:', disabled=False)\n",
    "s = widgets.Text(value='', description='Sum:', disabled=False)\n",
    "run = widgets.Button(\n",
    "    description='Calculate', button_style='', tooltip='Sum', disabled=False\n",
    ")\n",
    "\n",
    "\n",
    "def run_on_click(run):\n",
    "    s.value = str(float(x.value) + float(y.value))\n",
    "\n",
    "\n",
    "run.on_click(run_on_click)\n",
    "\n",
    "display(x)\n",
    "display(y)\n",
    "display(run)\n",
    "display(s)"
   ]
  }
 ],
 "metadata": {
  "kernelspec": {
   "display_name": "Python 3 (ms-sci)",
   "language": "python",
   "name": "ms-sci"
  },
  "language_info": {
   "codemirror_mode": {
    "name": "ipython",
    "version": 3
   },
   "file_extension": ".py",
   "mimetype": "text/x-python",
   "name": "python",
   "nbconvert_exporter": "python",
   "pygments_lexer": "ipython3",
   "version": "3.8.5"
  }
 },
 "nbformat": 4,
 "nbformat_minor": 5
}
